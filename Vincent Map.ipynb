{
 "metadata": {
  "name": ""
 },
 "nbformat": 3,
 "nbformat_minor": 0,
 "worksheets": [
  {
   "cells": [
    {
     "cell_type": "code",
     "collapsed": false,
     "input": [
      "%pylab inline\n",
      "import vincent\n",
      "import vincent.ipynb\n",
      "vincent.ipynb.init_d3()\n",
      "vincent.ipynb.init_vg()\n",
      "vincent.core.initialize_notebook()"
     ],
     "language": "python",
     "metadata": {},
     "outputs": [
      {
       "output_type": "stream",
       "stream": "stdout",
       "text": [
        "Populating the interactive namespace from numpy and matplotlib\n"
       ]
      },
      {
       "output_type": "stream",
       "stream": "stderr",
       "text": [
        "WARNING: pylab import has clobbered these variables: ['bar']\n",
        "`%pylab --no-import-all` prevents importing * from pylab and numpy\n"
       ]
      },
      {
       "html": [
        "<script src=\"http://d3js.org/d3.v3.min.js\"></script>"
       ],
       "metadata": {},
       "output_type": "display_data",
       "text": [
        "<IPython.core.display.HTML at 0x106ee9a90>"
       ]
      },
      {
       "html": [
        "<script src=\"http://trifacta.github.com/vega/vega.js\"></script>"
       ],
       "metadata": {},
       "output_type": "display_data",
       "text": [
        "<IPython.core.display.HTML at 0x106ee9bd0>"
       ]
      },
      {
       "javascript": [
        "$.getScript(\"http://d3js.org/d3.v3.min.js\", function() {\n",
        "        $.getScript(\"http://trifacta.github.com/vega/vega.js\", function() {\n",
        "            $([IPython.events]).trigger(\"vega_loaded.vincent\");\n",
        "        })\n",
        "    });"
       ],
       "metadata": {},
       "output_type": "display_data",
       "text": [
        "<IPython.core.display.Javascript at 0x106ee9a90>"
       ]
      }
     ],
     "prompt_number": 39
    },
    {
     "cell_type": "code",
     "collapsed": false,
     "input": [
      "world_topo = r'static/custom/world-countries.topo.json'\n",
      "\n",
      "geo_data = [{'name': 'countries',\n",
      "             'url': world_topo,\n",
      "             'feature': 'world-countries'}]\n",
      "\n",
      "vis = vincent.Map(geo_data=geo_data, scale=200)"
     ],
     "language": "python",
     "metadata": {},
     "outputs": [],
     "prompt_number": 40
    },
    {
     "cell_type": "code",
     "collapsed": false,
     "input": [
      "display_vega(vis)"
     ],
     "language": "python",
     "metadata": {},
     "outputs": [
      {
       "html": [
        "<div id=\"vis57446\"></div>"
       ],
       "metadata": {},
       "output_type": "display_data",
       "text": [
        "<IPython.core.display.HTML at 0x106ee9ad0>"
       ]
      },
      {
       "javascript": [
        "vg.parse.spec({\n",
        "  \"axes\": [],\n",
        "  \"data\": [\n",
        "    {\n",
        "      \"format\": {\n",
        "        \"feature\": \"world-countries\",\n",
        "        \"type\": \"topojson\"\n",
        "      },\n",
        "      \"name\": \"countries\",\n",
        "      \"transform\": [\n",
        "        {\n",
        "          \"projection\": \"winkel3\",\n",
        "          \"scale\": 200,\n",
        "          \"translate\": [\n",
        "            480,\n",
        "            250\n",
        "          ],\n",
        "          \"type\": \"geopath\",\n",
        "          \"value\": \"data\"\n",
        "        }\n",
        "      ],\n",
        "      \"url\": \"static/custom/world-countries.topo.json\"\n",
        "    }\n",
        "  ],\n",
        "  \"height\": 500,\n",
        "  \"legends\": [],\n",
        "  \"marks\": [\n",
        "    {\n",
        "      \"from\": {\n",
        "        \"data\": \"countries\"\n",
        "      },\n",
        "      \"properties\": {\n",
        "        \"enter\": {\n",
        "          \"path\": {\n",
        "            \"field\": \"path\"\n",
        "          },\n",
        "          \"stroke\": {\n",
        "            \"value\": \"#000000\"\n",
        "          }\n",
        "        },\n",
        "        \"update\": {\n",
        "          \"fill\": {\n",
        "            \"value\": \"steelblue\"\n",
        "          }\n",
        "        }\n",
        "      },\n",
        "      \"type\": \"path\"\n",
        "    }\n",
        "  ],\n",
        "  \"padding\": {\n",
        "    \"bottom\": 50,\n",
        "    \"left\": 50,\n",
        "    \"right\": 100,\n",
        "    \"top\": 10\n",
        "  },\n",
        "  \"scales\": [],\n",
        "  \"width\": 960\n",
        "}, function(chart)\n",
        "                        { chart({el:\"#vis57446\"}).update(); });"
       ],
       "metadata": {},
       "output_type": "display_data",
       "text": [
        "<IPython.core.display.Javascript at 0x106ee9990>"
       ]
      }
     ],
     "prompt_number": 41
    },
    {
     "cell_type": "code",
     "collapsed": false,
     "input": [],
     "language": "python",
     "metadata": {},
     "outputs": []
    }
   ],
   "metadata": {}
  }
 ]
}