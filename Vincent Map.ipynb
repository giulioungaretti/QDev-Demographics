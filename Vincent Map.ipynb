{
 "metadata": {
  "name": ""
 },
 "nbformat": 3,
 "nbformat_minor": 0,
 "worksheets": [
  {
   "cells": [
    {
     "cell_type": "code",
     "collapsed": false,
     "input": [
      "%pylab inline\n",
      "import vincent\n",
      "import json\n",
      "import pandas as pd\n",
      "from vincent.ipynb import display_vega\n",
      "from vincent import AxisProperties, PropertySet, ValueRef\n",
      "vincent.core.initialize_notebook()"
     ],
     "language": "python",
     "metadata": {},
     "outputs": [
      {
       "output_type": "stream",
       "stream": "stdout",
       "text": [
        "Populating the interactive namespace from numpy and matplotlib\n"
       ]
      },
      {
       "output_type": "stream",
       "stream": "stderr",
       "text": [
        "WARNING: pylab import has clobbered these variables: ['f', 'bar']\n",
        "`%pylab --no-import-all` prevents importing * from pylab and numpy\n"
       ]
      },
      {
       "javascript": [
        "$.getScript(\"http://d3js.org/d3.v3.min.js\", function() {\n",
        "        $.getScript(\"http://trifacta.github.com/vega/vega.js\", function() {\n",
        "            $([IPython.events]).trigger(\"vega_loaded.vincent\");\n",
        "        })\n",
        "    });"
       ],
       "metadata": {},
       "output_type": "display_data",
       "text": [
        "<IPython.core.display.Javascript at 0x1038c9690>"
       ]
      }
     ],
     "prompt_number": 21
    },
    {
     "cell_type": "heading",
     "level": 1,
     "metadata": {},
     "source": [
      "A picture of my lab"
     ]
    },
    {
     "cell_type": "heading",
     "level": 2,
     "metadata": {},
     "source": [
      "Geo located data"
     ]
    },
    {
     "cell_type": "code",
     "collapsed": false,
     "input": [
      "world_topo = r'world-countries.topo.json'\n",
      "\n",
      "geo_data = [{'name': 'countries',\n",
      "             'url': world_topo,\n",
      "             'feature': 'world-countries'}]\n",
      "\n",
      "vis = vincent.Map(geo_data=geo_data, scale=200)"
     ],
     "language": "python",
     "metadata": {},
     "outputs": [],
     "prompt_number": 22
    },
    {
     "cell_type": "markdown",
     "metadata": {},
     "source": [
      "Un elegant way to parse the JSON"
     ]
    },
    {
     "cell_type": "code",
     "collapsed": false,
     "input": [
      "a = open(world_topo)\n",
      "# thake just the first 'line '\n",
      "header = a.readline()\n",
      "# hack around to get the name properties of the JSON\n",
      "a.close()\n",
      "list_names_raw = header.split('name')\n",
      "\n",
      "list_names_less_raw = []\n",
      "\n",
      "for i in range(1,len(list_names_raw)):\n",
      "    temp = list_names_raw[i][3:].split('}')\n",
      "    list_names_less_raw.append(temp)\n",
      "    \n",
      "    \n",
      "list_names_fine = []\n",
      "for i in range(0,len(list_names_less_raw)):\n",
      "    temp =list_names_less_raw[i][0].split(',')[0][:-1]\n",
      "    list_names_fine.append(temp)"
     ],
     "language": "python",
     "metadata": {},
     "outputs": [],
     "prompt_number": 23
    },
    {
     "cell_type": "markdown",
     "metadata": {},
     "source": [
      "elegant way to parse JSON"
     ]
    },
    {
     "cell_type": "code",
     "collapsed": false,
     "input": [
      "with open(world_topo, 'r') as f:\n",
      "    get_id = json.load(f)"
     ],
     "language": "python",
     "metadata": {},
     "outputs": [],
     "prompt_number": 24
    },
    {
     "cell_type": "code",
     "collapsed": false,
     "input": [
      "names = []\n",
      "for geom in get_id['objects']['world-countries']['geometries']:\n",
      "    names.append(geom['properties']['name'])"
     ],
     "language": "python",
     "metadata": {},
     "outputs": [],
     "prompt_number": 25
    },
    {
     "cell_type": "markdown",
     "metadata": {},
     "source": [
      "Make the dataframe"
     ]
    },
    {
     "cell_type": "code",
     "collapsed": false,
     "input": [
      "countries = pd.Series(data= array(names),name='countries')\n",
      "data_template = pd.DataFrame(countries)\n",
      "data_template['val'] = linspace(0,10,num=len(countries.index))"
     ],
     "language": "python",
     "metadata": {},
     "outputs": [],
     "prompt_number": 26
    },
    {
     "cell_type": "markdown",
     "metadata": {},
     "source": [
      "Load df with data"
     ]
    },
    {
     "cell_type": "code",
     "collapsed": false,
     "input": [
      "file_name  = './data/data.csv'\n",
      "data = pd.read_csv(file_name,header=0,names=['timestamp', 'age','country',' gender',' Position','coffe','Main_lang', 'Sec_lang','editor', 'os', 'open', 'git'])"
     ],
     "language": "python",
     "metadata": {},
     "outputs": [],
     "prompt_number": 27
    },
    {
     "cell_type": "code",
     "collapsed": false,
     "input": [
      "data_map = {}\n",
      "for j in data_template.countries:\n",
      "    data_map[j] = 0 \n",
      "    for i in data.country.value_counts().index:\n",
      "        if i in j:\n",
      "            data_map[j] = data.country.value_counts()[i]\n",
      "        elif i in j.lower():\n",
      "            data_map[j] = data.country.value_counts()[i]\n",
      "        elif j in i:\n",
      "            data_map[j] = data.country.value_counts()[i]\n",
      "        elif j.lower() in i:\n",
      "            data_map[j] = data.country.value_counts()[i]"
     ],
     "language": "python",
     "metadata": {},
     "outputs": [],
     "prompt_number": 28
    },
    {
     "cell_type": "code",
     "collapsed": false,
     "input": [
      "a = pd.DataFrame.from_dict(data_map, orient='index')\n",
      "a['countries'] = a.index\n",
      "a['counts'] = a[0]  "
     ],
     "language": "python",
     "metadata": {},
     "outputs": [],
     "prompt_number": 29
    },
    {
     "cell_type": "code",
     "collapsed": false,
     "input": [
      "vis = vincent.Map(data = a, geo_data=geo_data, data_bind='counts', data_key='countries', \n",
      "                  map_key={'countries':'properties.name'}, scale=200,brew='Oranges')\n",
      "\n",
      "# visual fixes to the map \n",
      "vis.scales[0].type='quantile' # quantatitive \n",
      "unique_val = np.unique(a.counts.values)  # array of unique counts (i.e per country)\n",
      "vis.scales['color'].domain = list(unique_val) # takes only list dtype\n",
      "\n",
      "vis.legend('Qdev members number')"
     ],
     "language": "python",
     "metadata": {},
     "outputs": [],
     "prompt_number": 30
    },
    {
     "cell_type": "markdown",
     "metadata": {},
     "source": [
      "Convert to web vis:"
     ]
    },
    {
     "cell_type": "code",
     "collapsed": false,
     "input": [
      "vis.to_json('vis.json', html_out=True)"
     ],
     "language": "python",
     "metadata": {},
     "outputs": [],
     "prompt_number": 31
    },
    {
     "cell_type": "code",
     "collapsed": false,
     "input": [
      "bar = vincent.Bar(data.coffe.value_counts())\n",
      "#rotate x axis labels\n",
      "ax = AxisProperties(\n",
      "         labels = PropertySet(angle=ValueRef(value=45)))\n",
      "bar.axes[0].properties = ax"
     ],
     "language": "python",
     "metadata": {},
     "outputs": [],
     "prompt_number": 32
    },
    {
     "cell_type": "code",
     "collapsed": false,
     "input": [
      "!open http://127.0.0.1:8000/bar_template.html\n",
      "!python -m SimpleHTTPServer "
     ],
     "language": "python",
     "metadata": {},
     "outputs": [
      {
       "output_type": "stream",
       "stream": "stdout",
       "text": [
        "Serving HTTP on 0.0.0.0 port 8000 ...\r\n"
       ]
      },
      {
       "output_type": "stream",
       "stream": "stdout",
       "text": [
        "^CTraceback (most recent call last):\r\n",
        "  File \"/Users/Giulio/anaconda/lib/python2.7/runpy.py\", line 162, in _run_module_as_main\r\n",
        "    \"__main__\", fname, loader, pkg_name)\r\n",
        "  File \"/Users/Giulio/anaconda/lib/python2.7/runpy.py\", line 72, in _run_code\r\n",
        "    exec code in run_globals\r\n",
        "  File \"/Users/Giulio/anaconda/lib/python2.7/SimpleHTTPServer.py\", line 224, in <module>\r\n",
        "    test()\r\n",
        "  File \"/Users/Giulio/anaconda/lib/python2.7/SimpleHTTPServer.py\", line 220, in test\r\n",
        "    BaseHTTPServer.test(HandlerClass, ServerClass)\r\n",
        "  File \"/Users/Giulio/anaconda/lib/python2.7/BaseHTTPServer.py\", line 599, in test\r\n",
        "    httpd.serve_forever()\r\n",
        "  File \"/Users/Giulio/anaconda/lib/python2.7/SocketServer.py\", line 236, in serve_forever\r\n",
        "    poll_interval)\r\n",
        "  File \"/Users/Giulio/anaconda/lib/python2.7/SocketServer.py\", line 155, in _eintr_retry\r\n",
        "    return func(*args)\r\n",
        "KeyboardInterrupt\r\n",
        "\r\n"
       ]
      }
     ],
     "prompt_number": 33
    },
    {
     "cell_type": "code",
     "collapsed": false,
     "input": [
      "from IPython.core.display import HTML\n",
      "def css_styling():\n",
      "    styles = open('styles/custom.css').read()\n",
      "    return HTML(styles)\n",
      "css_styling()"
     ],
     "language": "python",
     "metadata": {},
     "outputs": [
      {
       "html": [
        "<style>\n",
        "    @font-face {\n",
        "                font-family: 'HelveticaNeue-UltraLight', 'Helvetica Neue UltraLight', 'Helvetica Neue', Arial, Helvetica, sans-serif; font-weight: 100; letter-spacing: 1px;\n",
        "    }\n",
        "    div.cell{\n",
        "        width: 90%;\n",
        "        margin-left:auto;\n",
        "        margin-right:auto;\n",
        "    }\n",
        "    ul {\n",
        "        line-height: 145%;\n",
        "        font-size: 90%;\n",
        "    }\n",
        "    li {\n",
        "        margin-bottom: 1em;\n",
        "    }\n",
        "    h1 {\n",
        "        font-family: 'HelveticaNeue-UltraLight', 'Helvetica Neue UltraLight', 'Helvetica Neue', Arial, Helvetica, sans-serif; font-weight: 500; letter-spacing: 1px;\n",
        "    }\n",
        "    h4{\n",
        "        margin-top: 12px;\n",
        "        margin-bottom: 3px;\n",
        "       }\n",
        "    div.text_cell_render{\n",
        "        font-family: 'HelveticaNeue-Light', 'Helvetica Neue Light', 'Helvetica Neue', Arial, Helvetica, sans-serif; font-weight: 100; letter-spacing: 1px;       \n",
        "        line-height: 105%;\n",
        "        font-size: 11pt;\n",
        "        width: 90%;\n",
        "        margin-left:auto;\n",
        "        margin-right:auto;\n",
        "    }\n",
        "    .CodeMirror{\n",
        "family    }\n",
        "/*    .prompt{\n",
        "        display: None;\n",
        "    }*/\n",
        "    .text_cell_render h5 {\n",
        "        font-weight: 300;\n",
        "        font-size: 16pt;\n",
        "        color: #4057A1;\n",
        "        font-style: italic;\n",
        "        margin-bottom: 0.5em;\n",
        "        margin-top: 0.5em;\n",
        "        display: block;\n",
        "    }\n",
        "\n",
        "    div.text_cell_render h1 {\n",
        "        font-family: 'HelveticaNeue-UltraLight', 'Helvetica Neue UltraLight', 'Helvetica Neue', Arial, Helvetica, sans-serif; font-weight: 500; letter-spacing: 1px;       \n",
        "        line-height: 145%;\n",
        "        font-size: 30pt;\n",
        "        color: #333333;\n",
        "        width: 90%;\n",
        "        margin-left:auto;\n",
        "        margin-right:auto;   \n",
        "    }\n",
        "\n",
        "    div.text_cell_render h2{\n",
        "        font-family: 'HelveticaNeue-UltraLight', 'Helvetica Neue UltraLight', 'Helvetica Neue', Arial, Helvetica, sans-serif; font-weight: 500; letter-spacing: 1px;       \n",
        "        color:#F38630;\n",
        "\n",
        "    }\n",
        "    .warning{\n",
        "        color: rgb( 240, 20, 20 )\n",
        "        }\n",
        "\n",
        "    div.output {\n",
        "        /*max-width:900px;*/\n",
        "        /*width: 99%;*/\n",
        "        text-align: center;\n",
        "        width: 90%;\n",
        "        margin-left:auto;\n",
        "        margin-right:auto;\n",
        "\n",
        "    }\n",
        "</style>\n",
        "<script>\n",
        "    MathJax.Hub.Config({\n",
        "                        TeX: {\n",
        "                           extensions: [\"AMSmath.js\"]\n",
        "                           },\n",
        "                tex2jax: {\n",
        "                    inlineMath: [ ['$','$'], [\"\\\\(\",\"\\\\)\"] ],\n",
        "                    displayMath: [ ['$$','$$'], [\"\\\\[\",\"\\\\]\"] ]\n",
        "                },\n",
        "                displayAlign: 'center', // Change this to 'center' to center equations.\n",
        "                \"HTML-CSS\": {\n",
        "                    styles: {'.MathJax_Display': {\"margin\": 4}}\n",
        "                }\n",
        "        });\n",
        "</script>"
       ],
       "metadata": {},
       "output_type": "pyout",
       "prompt_number": 84,
       "text": [
        "<IPython.core.display.HTML at 0x106f56e10>"
       ]
      }
     ],
     "prompt_number": 84
    },
    {
     "cell_type": "code",
     "collapsed": false,
     "input": [],
     "language": "python",
     "metadata": {},
     "outputs": [],
     "prompt_number": 84
    },
    {
     "cell_type": "code",
     "collapsed": false,
     "input": [],
     "language": "python",
     "metadata": {},
     "outputs": []
    }
   ],
   "metadata": {}
  }
 ]
}