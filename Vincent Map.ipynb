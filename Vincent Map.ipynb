{
 "metadata": {
  "name": ""
 },
 "nbformat": 3,
 "nbformat_minor": 0,
 "worksheets": [
  {
   "cells": [
    {
     "cell_type": "code",
     "collapsed": false,
     "input": [
      "%pylab inline\n",
      "import vincent\n",
      "import json\n",
      "import pandas as pd\n",
      "vincent.core.initialize_notebook()"
     ],
     "language": "python",
     "metadata": {},
     "outputs": [
      {
       "output_type": "stream",
       "stream": "stdout",
       "text": [
        "Populating the interactive namespace from numpy and matplotlib\n"
       ]
      },
      {
       "javascript": [
        "$.getScript(\"http://d3js.org/d3.v3.min.js\", function() {\n",
        "        $.getScript(\"http://trifacta.github.com/vega/vega.js\", function() {\n",
        "            $([IPython.events]).trigger(\"vega_loaded.vincent\");\n",
        "        })\n",
        "    });"
       ],
       "metadata": {},
       "output_type": "display_data",
       "text": [
        "<IPython.core.display.Javascript at 0x103bc8dd0>"
       ]
      }
     ],
     "prompt_number": 1
    },
    {
     "cell_type": "code",
     "collapsed": false,
     "input": [
      "world_topo = r'world-countries.topo.json'\n",
      "\n",
      "geo_data = [{'name': 'countries',\n",
      "             'url': world_topo,\n",
      "             'feature': 'world-countries'}]\n",
      "\n",
      "vis = vincent.Map(geo_data=geo_data, scale=200)"
     ],
     "language": "python",
     "metadata": {},
     "outputs": [],
     "prompt_number": 2
    },
    {
     "cell_type": "code",
     "collapsed": false,
     "input": [
      "a = open(world_topo)"
     ],
     "language": "python",
     "metadata": {},
     "outputs": [],
     "prompt_number": 3
    },
    {
     "cell_type": "code",
     "collapsed": false,
     "input": [
      "header = a.readline()"
     ],
     "language": "python",
     "metadata": {},
     "outputs": [],
     "prompt_number": 4
    },
    {
     "cell_type": "code",
     "collapsed": false,
     "input": [
      "list_names_raw = header.split('name')"
     ],
     "language": "python",
     "metadata": {},
     "outputs": [],
     "prompt_number": 5
    },
    {
     "cell_type": "code",
     "collapsed": false,
     "input": [
      "list_names_less_raw = []\n",
      "\n",
      "for i in range(1,len(list_names_raw)):\n",
      "    temp = list_names_raw[i][3:].split('}')\n",
      "    list_names_less_raw.append(temp)"
     ],
     "language": "python",
     "metadata": {},
     "outputs": [],
     "prompt_number": 6
    },
    {
     "cell_type": "code",
     "collapsed": false,
     "input": [
      "list_names_fine = []\n",
      "for i in range(0,len(list_names_less_raw)):\n",
      "    temp =list_names_less_raw[i][0].split(',')[0][:-1]\n",
      "    list_names_fine.append(temp)"
     ],
     "language": "python",
     "metadata": {},
     "outputs": [],
     "prompt_number": 7
    },
    {
     "cell_type": "markdown",
     "metadata": {},
     "source": [
      "Make the dataframe"
     ]
    },
    {
     "cell_type": "code",
     "collapsed": false,
     "input": [
      "countries = pd.Series(data= array(list_names_fine),name='countries')\n",
      "data_template = pd.DataFrame(countries)\n",
      "data_template['val'] = linspace(0,10,num=len(countries.index))"
     ],
     "language": "python",
     "metadata": {},
     "outputs": [],
     "prompt_number": 8
    },
    {
     "cell_type": "markdown",
     "metadata": {},
     "source": [
      "Test vis"
     ]
    },
    {
     "cell_type": "code",
     "collapsed": false,
     "input": [
      "vis = vincent.Map(data = data_template, geo_data=geo_data,data_bind='val', data_key='countries', \n",
      "                  map_key={'countries':'properties.name'}, scale=200)"
     ],
     "language": "python",
     "metadata": {},
     "outputs": [],
     "prompt_number": 9
    },
    {
     "cell_type": "code",
     "collapsed": false,
     "input": [
      "vis.legend('test')"
     ],
     "language": "python",
     "metadata": {},
     "outputs": [],
     "prompt_number": 10
    },
    {
     "cell_type": "code",
     "collapsed": false,
     "input": [
      "where(array(list_names_fine) == 'United States of America')"
     ],
     "language": "python",
     "metadata": {},
     "outputs": [
      {
       "metadata": {},
       "output_type": "pyout",
       "prompt_number": 11,
       "text": [
        "(array([168]),)"
       ]
      }
     ],
     "prompt_number": 11
    },
    {
     "cell_type": "markdown",
     "metadata": {},
     "source": [
      "Load df"
     ]
    },
    {
     "cell_type": "code",
     "collapsed": false,
     "input": [
      "file_name  = './data/data.csv'\n",
      "data = pd.read_csv(file_name,header=0,names=['timestamp', 'age','country',' gender',' Position','coffe','Main_lang', 'Sec_lang','editor', 'os', 'open', 'git'])"
     ],
     "language": "python",
     "metadata": {},
     "outputs": [],
     "prompt_number": 12
    },
    {
     "cell_type": "code",
     "collapsed": false,
     "input": [
      "data.country.value_counts()['Italy']"
     ],
     "language": "python",
     "metadata": {},
     "outputs": [
      {
       "metadata": {},
       "output_type": "pyout",
       "prompt_number": 13,
       "text": [
        "1"
       ]
      }
     ],
     "prompt_number": 13
    },
    {
     "cell_type": "code",
     "collapsed": false,
     "input": [
      "data_map = {}"
     ],
     "language": "python",
     "metadata": {},
     "outputs": [],
     "prompt_number": 14
    },
    {
     "cell_type": "code",
     "collapsed": false,
     "input": [
      "for i in data.country.value_counts().index:\n",
      "    for j in data_template.countries:\n",
      "        if i in j:\n",
      "            data_map[j] = data.country.value_counts()[i]\n",
      "        elif i in j.lower():\n",
      "            data_map[j] = data.country.value_counts()[i]\n",
      "        elif j in i:\n",
      "            data_map[j] = data.country.value_counts()[i]\n",
      "        elif j.lower() in i:\n",
      "            data_map[j] = data.country.value_counts()[i]\n",
      "        else:\n",
      "            data_map[j] = 0"
     ],
     "language": "python",
     "metadata": {},
     "outputs": [],
     "prompt_number": 15
    },
    {
     "cell_type": "code",
     "collapsed": false,
     "input": [
      "for i in data.country.value_counts().index:\n",
      "    for j in data_template.countries:\n",
      "        if i in j:\n",
      "            data_map[j] = data.country.value_counts()[i]\n",
      "        elif i in j.lower():\n",
      "            data_map[j] = data.country.value_counts()[i]\n",
      "        elif j in i:\n",
      "            data_map[j] = data.country.value_counts()[i]\n",
      "        elif j.lower() in i:\n",
      "            data_map[j] = data.country.value_counts()[i]"
     ],
     "language": "python",
     "metadata": {},
     "outputs": [],
     "prompt_number": 16
    },
    {
     "cell_type": "code",
     "collapsed": false,
     "input": [
      "a = pd.DataFrame.from_dict(data_map,orient='index')"
     ],
     "language": "python",
     "metadata": {},
     "outputs": [],
     "prompt_number": 17
    },
    {
     "cell_type": "code",
     "collapsed": false,
     "input": [
      "a['countries'] = a.index"
     ],
     "language": "python",
     "metadata": {},
     "outputs": [],
     "prompt_number": 18
    },
    {
     "cell_type": "code",
     "collapsed": false,
     "input": [
      "a['counts'] = a[0] "
     ],
     "language": "python",
     "metadata": {},
     "outputs": [],
     "prompt_number": 19
    },
    {
     "cell_type": "code",
     "collapsed": false,
     "input": [
      "unique_val = np.unique(a.counts.values)"
     ],
     "language": "python",
     "metadata": {},
     "outputs": [],
     "prompt_number": 20
    },
    {
     "cell_type": "code",
     "collapsed": false,
     "input": [
      "vis = vincent.Map(data = a, geo_data=geo_data, data_bind='counts', data_key='countries', \n",
      "                  map_key={'countries':'properties.name'}, scale=200,brew='RdPu')\n",
      "vis.scales[0].type='quantile'\n",
      "\n",
      "\n",
      "vis.scales['color'].domain = list(unique_val)\n",
      "\n",
      "vis.legend('members')"
     ],
     "language": "python",
     "metadata": {},
     "outputs": [],
     "prompt_number": 21
    },
    {
     "cell_type": "markdown",
     "metadata": {},
     "source": [
      "Convert to web vis:"
     ]
    },
    {
     "cell_type": "code",
     "collapsed": false,
     "input": [
      "vis.to_json('vis.json', html_out=True)"
     ],
     "language": "python",
     "metadata": {},
     "outputs": [],
     "prompt_number": 22
    }
   ],
   "metadata": {}
  }
 ]
}