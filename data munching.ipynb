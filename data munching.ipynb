{
 "metadata": {
  "name": ""
 },
 "nbformat": 3,
 "nbformat_minor": 0,
 "worksheets": [
  {
   "cells": [
    {
     "cell_type": "code",
     "collapsed": false,
     "input": [
      "%pylab inline"
     ],
     "language": "python",
     "metadata": {},
     "outputs": [
      {
       "output_type": "stream",
       "stream": "stdout",
       "text": [
        "Populating the interactive namespace from numpy and matplotlib\n"
       ]
      }
     ],
     "prompt_number": 38
    },
    {
     "cell_type": "code",
     "collapsed": false,
     "input": [
      "import pandas as pd"
     ],
     "language": "python",
     "metadata": {},
     "outputs": [],
     "prompt_number": 39
    },
    {
     "cell_type": "code",
     "collapsed": false,
     "input": [
      "file_name  = './data/data.csv'"
     ],
     "language": "python",
     "metadata": {},
     "outputs": [],
     "prompt_number": 40
    },
    {
     "cell_type": "code",
     "collapsed": false,
     "input": [
      "data = pd.read_csv(file_name,header=0,names=['timestamp', 'age','country ',' gender',' Position','coffe','Main_lang', 'Sec_lang','editor', 'os', 'open', 'git'])"
     ],
     "language": "python",
     "metadata": {},
     "outputs": [],
     "prompt_number": 47
    },
    {
     "cell_type": "code",
     "collapsed": false,
     "input": [
      "data.head()"
     ],
     "language": "python",
     "metadata": {},
     "outputs": [
      {
       "html": [
        "<div style=\"max-height:1000px;max-width:1500px;overflow:auto;\">\n",
        "<table border=\"1\" class=\"dataframe\">\n",
        "  <thead>\n",
        "    <tr style=\"text-align: right;\">\n",
        "      <th></th>\n",
        "      <th>timestamp</th>\n",
        "      <th>age</th>\n",
        "      <th>country </th>\n",
        "      <th> gender</th>\n",
        "      <th> Position</th>\n",
        "      <th>coffe</th>\n",
        "      <th>Main_lang</th>\n",
        "      <th>Sec_lang</th>\n",
        "      <th>editor</th>\n",
        "      <th>os</th>\n",
        "      <th>open</th>\n",
        "      <th>git</th>\n",
        "    </tr>\n",
        "  </thead>\n",
        "  <tbody>\n",
        "    <tr>\n",
        "      <th>0</th>\n",
        "      <td> 05/01/2014 16:37:27</td>\n",
        "      <td> 24</td>\n",
        "      <td>           Italy</td>\n",
        "      <td>   Male</td>\n",
        "      <td>      Master</td>\n",
        "      <td> Addicted</td>\n",
        "      <td>      Python</td>\n",
        "      <td>  Mathematica</td>\n",
        "      <td> LaTeX</td>\n",
        "      <td>            osX 10.9</td>\n",
        "      <td>                       yes</td>\n",
        "      <td>                     Can't live without</td>\n",
        "    </tr>\n",
        "    <tr>\n",
        "      <th>1</th>\n",
        "      <td> 05/01/2014 16:39:31</td>\n",
        "      <td> 29</td>\n",
        "      <td>             NaN</td>\n",
        "      <td>   Male</td>\n",
        "      <td> Technician\u00a0</td>\n",
        "      <td> Addicted</td>\n",
        "      <td>      Matlab</td>\n",
        "      <td>  Mathematica</td>\n",
        "      <td> LaTeX</td>\n",
        "      <td>           Windows 7</td>\n",
        "      <td> free beer ? count me in !</td>\n",
        "      <td> nice but too nerdy, dropbox is enough.</td>\n",
        "    </tr>\n",
        "    <tr>\n",
        "      <th>2</th>\n",
        "      <td> 05/01/2014 16:39:42</td>\n",
        "      <td> 25</td>\n",
        "      <td>         Denmark</td>\n",
        "      <td>   Male</td>\n",
        "      <td>      Master</td>\n",
        "      <td>      Yes</td>\n",
        "      <td>      Matlab</td>\n",
        "      <td>        C/C++</td>\n",
        "      <td> LaTeX</td>\n",
        "      <td> Linux (all flavors)</td>\n",
        "      <td>                       yes</td>\n",
        "      <td> nice but too nerdy, dropbox is enough.</td>\n",
        "    </tr>\n",
        "    <tr>\n",
        "      <th>3</th>\n",
        "      <td> 05/01/2014 16:39:57</td>\n",
        "      <td> 57</td>\n",
        "      <td>         Denmark</td>\n",
        "      <td>   Male</td>\n",
        "      <td>      Senior</td>\n",
        "      <td>      Yes</td>\n",
        "      <td> Mathematica</td>\n",
        "      <td> Visual Basic</td>\n",
        "      <td> LaTeX</td>\n",
        "      <td>           Windows 8</td>\n",
        "      <td>                        no</td>\n",
        "      <td>                     Can't live without</td>\n",
        "    </tr>\n",
        "    <tr>\n",
        "      <th>4</th>\n",
        "      <td> 05/01/2014 16:40:56</td>\n",
        "      <td> 27</td>\n",
        "      <td> the netherlands</td>\n",
        "      <td> Female</td>\n",
        "      <td>         Phd</td>\n",
        "      <td>       No</td>\n",
        "      <td>      Matlab</td>\n",
        "      <td>       Python</td>\n",
        "      <td> LaTeX</td>\n",
        "      <td>            osX 10.9</td>\n",
        "      <td>                       yes</td>\n",
        "      <td> nice but too nerdy, dropbox is enough.</td>\n",
        "    </tr>\n",
        "  </tbody>\n",
        "</table>\n",
        "</div>"
       ],
       "metadata": {},
       "output_type": "pyout",
       "prompt_number": 48,
       "text": [
        "             timestamp  age         country   gender     Position     coffe  \\\n",
        "0  05/01/2014 16:37:27   24            Italy    Male       Master  Addicted   \n",
        "1  05/01/2014 16:39:31   29              NaN    Male  Technician\u00a0  Addicted   \n",
        "2  05/01/2014 16:39:42   25          Denmark    Male       Master       Yes   \n",
        "3  05/01/2014 16:39:57   57          Denmark    Male       Senior       Yes   \n",
        "4  05/01/2014 16:40:56   27  the netherlands  Female          Phd        No   \n",
        "\n",
        "     Main_lang      Sec_lang editor                   os  \\\n",
        "0       Python   Mathematica  LaTeX             osX 10.9   \n",
        "1       Matlab   Mathematica  LaTeX            Windows 7   \n",
        "2       Matlab         C/C++  LaTeX  Linux (all flavors)   \n",
        "3  Mathematica  Visual Basic  LaTeX            Windows 8   \n",
        "4       Matlab        Python  LaTeX             osX 10.9   \n",
        "\n",
        "                        open                                     git  \n",
        "0                        yes                      Can't live without  \n",
        "1  free beer ? count me in !  nice but too nerdy, dropbox is enough.  \n",
        "2                        yes  nice but too nerdy, dropbox is enough.  \n",
        "3                         no                      Can't live without  \n",
        "4                        yes  nice but too nerdy, dropbox is enough.  "
       ]
      }
     ],
     "prompt_number": 48
    },
    {
     "cell_type": "code",
     "collapsed": false,
     "input": [
      "data.hist(column='age')"
     ],
     "language": "python",
     "metadata": {},
     "outputs": [
      {
       "metadata": {},
       "output_type": "pyout",
       "prompt_number": 52,
       "text": [
        "array([[<matplotlib.axes.AxesSubplot object at 0x106f4a290>]], dtype=object)"
       ]
      },
      {
       "metadata": {},
       "output_type": "display_data",
       "png": "[encoded data removed]",
       "text": [
        "<matplotlib.figure.Figure at 0x107551e90>"
       ]
      }
     ],
     "prompt_number": 52
    },
    {
     "cell_type": "code",
     "collapsed": false,
     "input": [],
     "language": "python",
     "metadata": {},
     "outputs": []
    }
   ],
   "metadata": {}
  }
 ]
}