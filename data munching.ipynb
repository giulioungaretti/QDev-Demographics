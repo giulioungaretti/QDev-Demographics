{
 "metadata": {
  "name": ""
 },
 "nbformat": 3,
 "nbformat_minor": 0,
 "worksheets": [
  {
   "cells": [
    {
     "cell_type": "code",
     "collapsed": false,
     "input": [
      "%pylab inline"
     ],
     "language": "python",
     "metadata": {},
     "outputs": [
      {
       "output_type": "stream",
       "stream": "stdout",
       "text": [
        "Populating the interactive namespace from numpy and matplotlib\n"
       ]
      }
     ],
     "prompt_number": 263
    },
    {
     "cell_type": "code",
     "collapsed": false,
     "input": [
      "import pandas as pd\n",
      "from pandas.tools.plotting import scatter_matrix"
     ],
     "language": "python",
     "metadata": {},
     "outputs": [],
     "prompt_number": 307
    },
    {
     "cell_type": "code",
     "collapsed": false,
     "input": [
      "file_name = './data/data.csv'\n",
      "data = pd.read_csv(\n",
      "    file_name, header=0, names=['timestamp', 'age', 'country', 'gender',\n",
      "                                'Position', 'coffe', 'Main_lang', 'Sec_lang', 'editor', 'os', 'open', 'git'])"
     ],
     "language": "python",
     "metadata": {},
     "outputs": [],
     "prompt_number": 308
    },
    {
     "cell_type": "code",
     "collapsed": false,
     "input": [
      "def tokenize(col_in,data):\n",
      "    tokenizer = {}\n",
      "    tokenizer_flat = {}\n",
      "    for col in col_in:\n",
      "        temp = {}\n",
      "        for i, j in zip(data[col].unique(), linspace(0, len(data[col].unique()), len(data[col].unique()))):\n",
      "            temp[i] = int(j)\n",
      "            tokenizer_flat[i] = int(j)\n",
      "            tokenizer[col] = temp\n",
      "    return [tokenizer, tokenizer_flat]"
     ],
     "language": "python",
     "metadata": {},
     "outputs": [],
     "prompt_number": 309
    },
    {
     "cell_type": "code",
     "collapsed": false,
     "input": [
      "converters = tokenize(data.columns,data)"
     ],
     "language": "python",
     "metadata": {},
     "outputs": [],
     "prompt_number": 310
    },
    {
     "cell_type": "code",
     "collapsed": false,
     "input": [
      "data_tokenized = data.applymap(lambda s: converters[1].get(s) if s in converters[1] else s)\n",
      "data_tokenized.head()"
     ],
     "language": "python",
     "metadata": {},
     "outputs": [
      {
       "html": [
        "<div style=\"max-height:1000px;max-width:1500px;overflow:auto;\">\n",
        "<table border=\"1\" class=\"dataframe\">\n",
        "  <thead>\n",
        "    <tr style=\"text-align: right;\">\n",
        "      <th></th>\n",
        "      <th>timestamp</th>\n",
        "      <th>age</th>\n",
        "      <th>country</th>\n",
        "      <th>gender</th>\n",
        "      <th>Position</th>\n",
        "      <th>coffe</th>\n",
        "      <th>Main_lang</th>\n",
        "      <th>Sec_lang</th>\n",
        "      <th>editor</th>\n",
        "      <th>os</th>\n",
        "      <th>open</th>\n",
        "      <th>git</th>\n",
        "    </tr>\n",
        "  </thead>\n",
        "  <tbody>\n",
        "    <tr>\n",
        "      <th>0</th>\n",
        "      <td> 0</td>\n",
        "      <td> 0</td>\n",
        "      <td> 0</td>\n",
        "      <td> 0</td>\n",
        "      <td> 0</td>\n",
        "      <td> 0</td>\n",
        "      <td> 3</td>\n",
        "      <td> 0</td>\n",
        "      <td> 0</td>\n",
        "      <td> 0</td>\n",
        "      <td> 0</td>\n",
        "      <td> 0</td>\n",
        "    </tr>\n",
        "    <tr>\n",
        "      <th>1</th>\n",
        "      <td> 1</td>\n",
        "      <td> 1</td>\n",
        "      <td> 6</td>\n",
        "      <td> 0</td>\n",
        "      <td> 1</td>\n",
        "      <td> 0</td>\n",
        "      <td> 8</td>\n",
        "      <td> 0</td>\n",
        "      <td> 0</td>\n",
        "      <td> 1</td>\n",
        "      <td> 1</td>\n",
        "      <td> 1</td>\n",
        "    </tr>\n",
        "    <tr>\n",
        "      <th>2</th>\n",
        "      <td> 2</td>\n",
        "      <td> 2</td>\n",
        "      <td> 2</td>\n",
        "      <td> 0</td>\n",
        "      <td> 0</td>\n",
        "      <td> 1</td>\n",
        "      <td> 8</td>\n",
        "      <td> 1</td>\n",
        "      <td> 0</td>\n",
        "      <td> 2</td>\n",
        "      <td> 0</td>\n",
        "      <td> 1</td>\n",
        "    </tr>\n",
        "    <tr>\n",
        "      <th>3</th>\n",
        "      <td> 3</td>\n",
        "      <td> 3</td>\n",
        "      <td> 2</td>\n",
        "      <td> 0</td>\n",
        "      <td> 2</td>\n",
        "      <td> 1</td>\n",
        "      <td> 0</td>\n",
        "      <td> 2</td>\n",
        "      <td> 0</td>\n",
        "      <td> 3</td>\n",
        "      <td> 3</td>\n",
        "      <td> 0</td>\n",
        "    </tr>\n",
        "    <tr>\n",
        "      <th>4</th>\n",
        "      <td> 4</td>\n",
        "      <td> 4</td>\n",
        "      <td> 3</td>\n",
        "      <td> 2</td>\n",
        "      <td> 3</td>\n",
        "      <td> 3</td>\n",
        "      <td> 8</td>\n",
        "      <td> 3</td>\n",
        "      <td> 0</td>\n",
        "      <td> 0</td>\n",
        "      <td> 0</td>\n",
        "      <td> 1</td>\n",
        "    </tr>\n",
        "  </tbody>\n",
        "</table>\n",
        "</div>"
       ],
       "metadata": {},
       "output_type": "pyout",
       "prompt_number": 311,
       "text": [
        "   timestamp  age  country  gender  Position  coffe  Main_lang  Sec_lang  \\\n",
        "0          0    0        0       0         0      0          3         0   \n",
        "1          1    1        6       0         1      0          8         0   \n",
        "2          2    2        2       0         0      1          8         1   \n",
        "3          3    3        2       0         2      1          0         2   \n",
        "4          4    4        3       2         3      3          8         3   \n",
        "\n",
        "   editor  os  open  git  \n",
        "0       0   0     0    0  \n",
        "1       0   1     1    1  \n",
        "2       0   2     0    1  \n",
        "3       0   3     3    0  \n",
        "4       0   0     0    1  "
       ]
      }
     ],
     "prompt_number": 311
    }
   ],
   "metadata": {}
  }
 ]
}